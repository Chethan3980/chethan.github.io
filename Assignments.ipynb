{
  "nbformat": 4,
  "nbformat_minor": 0,
  "metadata": {
    "colab": {
      "name": "Assignments.ipynb",
      "provenance": [],
      "collapsed_sections": [],
      "authorship_tag": "ABX9TyPLTL5ywg+iPhJD+C1GRwb4",
      "include_colab_link": true
    },
    "kernelspec": {
      "name": "python3",
      "display_name": "Python 3"
    },
    "language_info": {
      "name": "python"
    }
  },
  "cells": [
    {
      "cell_type": "markdown",
      "metadata": {
        "id": "view-in-github",
        "colab_type": "text"
      },
      "source": [
        "<a href=\"https://colab.research.google.com/github/Chethan3980/chethan.gitjub.io/blob/main/Assignments.ipynb\" target=\"_parent\"><img src=\"https://colab.research.google.com/assets/colab-badge.svg\" alt=\"Open In Colab\"/></a>"
      ]
    },
    {
      "cell_type": "code",
      "metadata": {
        "colab": {
          "base_uri": "https://localhost:8080/"
        },
        "id": "7PoXOi792sO_",
        "outputId": "2247a670-9edd-40ee-aec0-1b9a5496b432"
      },
      "source": [
        "# ASSIGNMENT Day 1\n",
        "list = [int(i) for i in input(\"Enter the values: \").split()]    # splits the strings\n",
        "list.sort()\n",
        "list.reverse()\n",
        "print(list)"
      ],
      "execution_count": null,
      "outputs": [
        {
          "output_type": "stream",
          "text": [
            "Enter the values: 20 40 50 30 10 \n",
            "[50, 40, 30, 20, 10]\n"
          ],
          "name": "stdout"
        }
      ]
    }
  ]
}